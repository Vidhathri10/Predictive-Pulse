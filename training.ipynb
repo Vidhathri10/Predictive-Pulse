{
 "cells": [
  {
   "cell_type": "code",
   "execution_count": 1,
   "id": "9831caf3-7e89-4262-8554-5f02964acab9",
   "metadata": {},
   "outputs": [],
   "source": [
    "import pandas as pd\n",
    "import numpy as np\n",
    "import matplotlib.pyplot as plt\n",
    "import seaborn as sns"
   ]
  },
  {
   "cell_type": "code",
   "execution_count": 2,
   "id": "f42a1d87-f2cc-40e0-bbba-eb19a56a71aa",
   "metadata": {},
   "outputs": [],
   "source": [
    "df = pd.read_csv(\"patient_data.csv\")"
   ]
  },
  {
   "cell_type": "code",
   "execution_count": 3,
   "id": "76de6d47-a0ea-409a-9304-184390b45610",
   "metadata": {},
   "outputs": [
    {
     "data": {
      "text/html": [
       "<div>\n",
       "<style scoped>\n",
       "    .dataframe tbody tr th:only-of-type {\n",
       "        vertical-align: middle;\n",
       "    }\n",
       "\n",
       "    .dataframe tbody tr th {\n",
       "        vertical-align: top;\n",
       "    }\n",
       "\n",
       "    .dataframe thead th {\n",
       "        text-align: right;\n",
       "    }\n",
       "</style>\n",
       "<table border=\"1\" class=\"dataframe\">\n",
       "  <thead>\n",
       "    <tr style=\"text-align: right;\">\n",
       "      <th></th>\n",
       "      <th>C</th>\n",
       "      <th>Age</th>\n",
       "      <th>History</th>\n",
       "      <th>Patient</th>\n",
       "      <th>TakeMedication</th>\n",
       "      <th>Severity</th>\n",
       "      <th>BreathShortness</th>\n",
       "      <th>VisualChanges</th>\n",
       "      <th>NoseBleeding</th>\n",
       "      <th>Whendiagnoused</th>\n",
       "      <th>Systolic</th>\n",
       "      <th>Diastolic</th>\n",
       "      <th>ControlledDiet</th>\n",
       "      <th>Stages</th>\n",
       "    </tr>\n",
       "  </thead>\n",
       "  <tbody>\n",
       "    <tr>\n",
       "      <th>0</th>\n",
       "      <td>Male</td>\n",
       "      <td>18-34</td>\n",
       "      <td>Yes</td>\n",
       "      <td>No</td>\n",
       "      <td>No</td>\n",
       "      <td>Mild</td>\n",
       "      <td>No</td>\n",
       "      <td>No</td>\n",
       "      <td>No</td>\n",
       "      <td>&lt;1 Year</td>\n",
       "      <td>111 - 120</td>\n",
       "      <td>81 - 90</td>\n",
       "      <td>No</td>\n",
       "      <td>HYPERTENSION (Stage-1)</td>\n",
       "    </tr>\n",
       "    <tr>\n",
       "      <th>1</th>\n",
       "      <td>Female</td>\n",
       "      <td>18-34</td>\n",
       "      <td>Yes</td>\n",
       "      <td>No</td>\n",
       "      <td>No</td>\n",
       "      <td>Mild</td>\n",
       "      <td>No</td>\n",
       "      <td>No</td>\n",
       "      <td>No</td>\n",
       "      <td>&lt;1 Year</td>\n",
       "      <td>111 - 120</td>\n",
       "      <td>81 - 90</td>\n",
       "      <td>No</td>\n",
       "      <td>HYPERTENSION (Stage-1)</td>\n",
       "    </tr>\n",
       "    <tr>\n",
       "      <th>2</th>\n",
       "      <td>Male</td>\n",
       "      <td>35-50</td>\n",
       "      <td>Yes</td>\n",
       "      <td>No</td>\n",
       "      <td>No</td>\n",
       "      <td>Mild</td>\n",
       "      <td>No</td>\n",
       "      <td>No</td>\n",
       "      <td>No</td>\n",
       "      <td>&lt;1 Year</td>\n",
       "      <td>111 - 120</td>\n",
       "      <td>81 - 90</td>\n",
       "      <td>No</td>\n",
       "      <td>HYPERTENSION (Stage-1)</td>\n",
       "    </tr>\n",
       "    <tr>\n",
       "      <th>3</th>\n",
       "      <td>Female</td>\n",
       "      <td>35-50</td>\n",
       "      <td>Yes</td>\n",
       "      <td>No</td>\n",
       "      <td>No</td>\n",
       "      <td>Mild</td>\n",
       "      <td>No</td>\n",
       "      <td>No</td>\n",
       "      <td>No</td>\n",
       "      <td>&lt;1 Year</td>\n",
       "      <td>111 - 120</td>\n",
       "      <td>81 - 90</td>\n",
       "      <td>No</td>\n",
       "      <td>HYPERTENSION (Stage-1)</td>\n",
       "    </tr>\n",
       "    <tr>\n",
       "      <th>4</th>\n",
       "      <td>Male</td>\n",
       "      <td>51-64</td>\n",
       "      <td>Yes</td>\n",
       "      <td>No</td>\n",
       "      <td>No</td>\n",
       "      <td>Mild</td>\n",
       "      <td>No</td>\n",
       "      <td>No</td>\n",
       "      <td>No</td>\n",
       "      <td>&lt;1 Year</td>\n",
       "      <td>111 - 120</td>\n",
       "      <td>81 - 90</td>\n",
       "      <td>No</td>\n",
       "      <td>HYPERTENSION (Stage-1)</td>\n",
       "    </tr>\n",
       "  </tbody>\n",
       "</table>\n",
       "</div>"
      ],
      "text/plain": [
       "        C    Age History Patient TakeMedication Severity BreathShortness  \\\n",
       "0    Male  18-34     Yes      No             No     Mild              No   \n",
       "1  Female  18-34     Yes      No             No     Mild              No   \n",
       "2    Male  35-50     Yes      No             No     Mild              No   \n",
       "3  Female  35-50     Yes      No             No     Mild              No   \n",
       "4    Male  51-64     Yes      No             No     Mild              No   \n",
       "\n",
       "  VisualChanges NoseBleeding Whendiagnoused   Systolic Diastolic  \\\n",
       "0            No          No         <1 Year  111 - 120   81 - 90   \n",
       "1            No          No         <1 Year  111 - 120   81 - 90   \n",
       "2            No          No         <1 Year  111 - 120   81 - 90   \n",
       "3            No          No         <1 Year  111 - 120   81 - 90   \n",
       "4            No          No         <1 Year  111 - 120   81 - 90   \n",
       "\n",
       "  ControlledDiet                  Stages  \n",
       "0             No  HYPERTENSION (Stage-1)  \n",
       "1             No  HYPERTENSION (Stage-1)  \n",
       "2             No  HYPERTENSION (Stage-1)  \n",
       "3             No  HYPERTENSION (Stage-1)  \n",
       "4             No  HYPERTENSION (Stage-1)  "
      ]
     },
     "execution_count": 3,
     "metadata": {},
     "output_type": "execute_result"
    }
   ],
   "source": [
    "df.head()"
   ]
  },
  {
   "cell_type": "code",
   "execution_count": 4,
   "id": "07517f5e-9215-4bb0-9216-c5cfb0c32015",
   "metadata": {},
   "outputs": [],
   "source": [
    "df = df.rename(columns={\"C\":\"Gender\"})"
   ]
  },
  {
   "cell_type": "code",
   "execution_count": 5,
   "id": "5ab98020-b3e7-45a7-b861-744cf05fe992",
   "metadata": {},
   "outputs": [
    {
     "data": {
      "text/html": [
       "<div>\n",
       "<style scoped>\n",
       "    .dataframe tbody tr th:only-of-type {\n",
       "        vertical-align: middle;\n",
       "    }\n",
       "\n",
       "    .dataframe tbody tr th {\n",
       "        vertical-align: top;\n",
       "    }\n",
       "\n",
       "    .dataframe thead th {\n",
       "        text-align: right;\n",
       "    }\n",
       "</style>\n",
       "<table border=\"1\" class=\"dataframe\">\n",
       "  <thead>\n",
       "    <tr style=\"text-align: right;\">\n",
       "      <th></th>\n",
       "      <th>Gender</th>\n",
       "      <th>Age</th>\n",
       "      <th>History</th>\n",
       "      <th>Patient</th>\n",
       "      <th>TakeMedication</th>\n",
       "      <th>Severity</th>\n",
       "      <th>BreathShortness</th>\n",
       "      <th>VisualChanges</th>\n",
       "      <th>NoseBleeding</th>\n",
       "      <th>Whendiagnoused</th>\n",
       "      <th>Systolic</th>\n",
       "      <th>Diastolic</th>\n",
       "      <th>ControlledDiet</th>\n",
       "      <th>Stages</th>\n",
       "    </tr>\n",
       "  </thead>\n",
       "  <tbody>\n",
       "    <tr>\n",
       "      <th>0</th>\n",
       "      <td>Male</td>\n",
       "      <td>18-34</td>\n",
       "      <td>Yes</td>\n",
       "      <td>No</td>\n",
       "      <td>No</td>\n",
       "      <td>Mild</td>\n",
       "      <td>No</td>\n",
       "      <td>No</td>\n",
       "      <td>No</td>\n",
       "      <td>&lt;1 Year</td>\n",
       "      <td>111 - 120</td>\n",
       "      <td>81 - 90</td>\n",
       "      <td>No</td>\n",
       "      <td>HYPERTENSION (Stage-1)</td>\n",
       "    </tr>\n",
       "    <tr>\n",
       "      <th>1</th>\n",
       "      <td>Female</td>\n",
       "      <td>18-34</td>\n",
       "      <td>Yes</td>\n",
       "      <td>No</td>\n",
       "      <td>No</td>\n",
       "      <td>Mild</td>\n",
       "      <td>No</td>\n",
       "      <td>No</td>\n",
       "      <td>No</td>\n",
       "      <td>&lt;1 Year</td>\n",
       "      <td>111 - 120</td>\n",
       "      <td>81 - 90</td>\n",
       "      <td>No</td>\n",
       "      <td>HYPERTENSION (Stage-1)</td>\n",
       "    </tr>\n",
       "    <tr>\n",
       "      <th>2</th>\n",
       "      <td>Male</td>\n",
       "      <td>35-50</td>\n",
       "      <td>Yes</td>\n",
       "      <td>No</td>\n",
       "      <td>No</td>\n",
       "      <td>Mild</td>\n",
       "      <td>No</td>\n",
       "      <td>No</td>\n",
       "      <td>No</td>\n",
       "      <td>&lt;1 Year</td>\n",
       "      <td>111 - 120</td>\n",
       "      <td>81 - 90</td>\n",
       "      <td>No</td>\n",
       "      <td>HYPERTENSION (Stage-1)</td>\n",
       "    </tr>\n",
       "    <tr>\n",
       "      <th>3</th>\n",
       "      <td>Female</td>\n",
       "      <td>35-50</td>\n",
       "      <td>Yes</td>\n",
       "      <td>No</td>\n",
       "      <td>No</td>\n",
       "      <td>Mild</td>\n",
       "      <td>No</td>\n",
       "      <td>No</td>\n",
       "      <td>No</td>\n",
       "      <td>&lt;1 Year</td>\n",
       "      <td>111 - 120</td>\n",
       "      <td>81 - 90</td>\n",
       "      <td>No</td>\n",
       "      <td>HYPERTENSION (Stage-1)</td>\n",
       "    </tr>\n",
       "    <tr>\n",
       "      <th>4</th>\n",
       "      <td>Male</td>\n",
       "      <td>51-64</td>\n",
       "      <td>Yes</td>\n",
       "      <td>No</td>\n",
       "      <td>No</td>\n",
       "      <td>Mild</td>\n",
       "      <td>No</td>\n",
       "      <td>No</td>\n",
       "      <td>No</td>\n",
       "      <td>&lt;1 Year</td>\n",
       "      <td>111 - 120</td>\n",
       "      <td>81 - 90</td>\n",
       "      <td>No</td>\n",
       "      <td>HYPERTENSION (Stage-1)</td>\n",
       "    </tr>\n",
       "  </tbody>\n",
       "</table>\n",
       "</div>"
      ],
      "text/plain": [
       "   Gender    Age History Patient TakeMedication Severity BreathShortness  \\\n",
       "0    Male  18-34     Yes      No             No     Mild              No   \n",
       "1  Female  18-34     Yes      No             No     Mild              No   \n",
       "2    Male  35-50     Yes      No             No     Mild              No   \n",
       "3  Female  35-50     Yes      No             No     Mild              No   \n",
       "4    Male  51-64     Yes      No             No     Mild              No   \n",
       "\n",
       "  VisualChanges NoseBleeding Whendiagnoused   Systolic Diastolic  \\\n",
       "0            No          No         <1 Year  111 - 120   81 - 90   \n",
       "1            No          No         <1 Year  111 - 120   81 - 90   \n",
       "2            No          No         <1 Year  111 - 120   81 - 90   \n",
       "3            No          No         <1 Year  111 - 120   81 - 90   \n",
       "4            No          No         <1 Year  111 - 120   81 - 90   \n",
       "\n",
       "  ControlledDiet                  Stages  \n",
       "0             No  HYPERTENSION (Stage-1)  \n",
       "1             No  HYPERTENSION (Stage-1)  \n",
       "2             No  HYPERTENSION (Stage-1)  \n",
       "3             No  HYPERTENSION (Stage-1)  \n",
       "4             No  HYPERTENSION (Stage-1)  "
      ]
     },
     "execution_count": 5,
     "metadata": {},
     "output_type": "execute_result"
    }
   ],
   "source": [
    "df.head()"
   ]
  },
  {
   "cell_type": "code",
   "execution_count": 6,
   "id": "797bcaef-9950-44b8-8922-d23e2d0f0445",
   "metadata": {},
   "outputs": [
    {
     "name": "stdout",
     "output_type": "stream",
     "text": [
      "<class 'pandas.core.frame.DataFrame'>\n",
      "RangeIndex: 1825 entries, 0 to 1824\n",
      "Data columns (total 14 columns):\n",
      " #   Column           Non-Null Count  Dtype \n",
      "---  ------           --------------  ----- \n",
      " 0   Gender           1825 non-null   object\n",
      " 1   Age              1825 non-null   object\n",
      " 2   History          1825 non-null   object\n",
      " 3   Patient          1825 non-null   object\n",
      " 4   TakeMedication   1825 non-null   object\n",
      " 5   Severity         1825 non-null   object\n",
      " 6   BreathShortness  1825 non-null   object\n",
      " 7   VisualChanges    1825 non-null   object\n",
      " 8   NoseBleeding     1825 non-null   object\n",
      " 9   Whendiagnoused   1825 non-null   object\n",
      " 10  Systolic         1825 non-null   object\n",
      " 11  Diastolic        1825 non-null   object\n",
      " 12  ControlledDiet   1825 non-null   object\n",
      " 13  Stages           1825 non-null   object\n",
      "dtypes: object(14)\n",
      "memory usage: 199.7+ KB\n"
     ]
    }
   ],
   "source": [
    "df.info()"
   ]
  },
  {
   "cell_type": "code",
   "execution_count": 7,
   "id": "f2ccf51f-c57b-49a9-af89-a3bd312664f5",
   "metadata": {},
   "outputs": [
    {
     "data": {
      "text/plain": [
       "(1825, 14)"
      ]
     },
     "execution_count": 7,
     "metadata": {},
     "output_type": "execute_result"
    }
   ],
   "source": [
    "df.shape"
   ]
  },
  {
   "cell_type": "code",
   "execution_count": 8,
   "id": "055a3446-5658-462b-895b-4c55a02f839b",
   "metadata": {},
   "outputs": [
    {
     "data": {
      "text/html": [
       "<div>\n",
       "<style scoped>\n",
       "    .dataframe tbody tr th:only-of-type {\n",
       "        vertical-align: middle;\n",
       "    }\n",
       "\n",
       "    .dataframe tbody tr th {\n",
       "        vertical-align: top;\n",
       "    }\n",
       "\n",
       "    .dataframe thead th {\n",
       "        text-align: right;\n",
       "    }\n",
       "</style>\n",
       "<table border=\"1\" class=\"dataframe\">\n",
       "  <thead>\n",
       "    <tr style=\"text-align: right;\">\n",
       "      <th></th>\n",
       "      <th>Gender</th>\n",
       "      <th>Age</th>\n",
       "      <th>History</th>\n",
       "      <th>Patient</th>\n",
       "      <th>TakeMedication</th>\n",
       "      <th>Severity</th>\n",
       "      <th>BreathShortness</th>\n",
       "      <th>VisualChanges</th>\n",
       "      <th>NoseBleeding</th>\n",
       "      <th>Whendiagnoused</th>\n",
       "      <th>Systolic</th>\n",
       "      <th>Diastolic</th>\n",
       "      <th>ControlledDiet</th>\n",
       "      <th>Stages</th>\n",
       "    </tr>\n",
       "  </thead>\n",
       "  <tbody>\n",
       "    <tr>\n",
       "      <th>count</th>\n",
       "      <td>1825</td>\n",
       "      <td>1825</td>\n",
       "      <td>1825</td>\n",
       "      <td>1825</td>\n",
       "      <td>1825</td>\n",
       "      <td>1825</td>\n",
       "      <td>1825</td>\n",
       "      <td>1825</td>\n",
       "      <td>1825</td>\n",
       "      <td>1825</td>\n",
       "      <td>1825</td>\n",
       "      <td>1825</td>\n",
       "      <td>1825</td>\n",
       "      <td>1825</td>\n",
       "    </tr>\n",
       "    <tr>\n",
       "      <th>unique</th>\n",
       "      <td>2</td>\n",
       "      <td>4</td>\n",
       "      <td>2</td>\n",
       "      <td>2</td>\n",
       "      <td>3</td>\n",
       "      <td>3</td>\n",
       "      <td>2</td>\n",
       "      <td>2</td>\n",
       "      <td>3</td>\n",
       "      <td>3</td>\n",
       "      <td>5</td>\n",
       "      <td>5</td>\n",
       "      <td>2</td>\n",
       "      <td>6</td>\n",
       "    </tr>\n",
       "    <tr>\n",
       "      <th>top</th>\n",
       "      <td>Female</td>\n",
       "      <td>51-64</td>\n",
       "      <td>Yes</td>\n",
       "      <td>No</td>\n",
       "      <td>No</td>\n",
       "      <td>Moderate</td>\n",
       "      <td>No</td>\n",
       "      <td>No</td>\n",
       "      <td>No</td>\n",
       "      <td>&lt;1 Year</td>\n",
       "      <td>111 - 120</td>\n",
       "      <td>81 - 90</td>\n",
       "      <td>No</td>\n",
       "      <td>HYPERTENSION (Stage-1)</td>\n",
       "    </tr>\n",
       "    <tr>\n",
       "      <th>freq</th>\n",
       "      <td>913</td>\n",
       "      <td>475</td>\n",
       "      <td>1657</td>\n",
       "      <td>984</td>\n",
       "      <td>744</td>\n",
       "      <td>697</td>\n",
       "      <td>976</td>\n",
       "      <td>940</td>\n",
       "      <td>984</td>\n",
       "      <td>625</td>\n",
       "      <td>1008</td>\n",
       "      <td>708</td>\n",
       "      <td>984</td>\n",
       "      <td>648</td>\n",
       "    </tr>\n",
       "  </tbody>\n",
       "</table>\n",
       "</div>"
      ],
      "text/plain": [
       "        Gender    Age History Patient TakeMedication  Severity  \\\n",
       "count     1825   1825    1825    1825           1825      1825   \n",
       "unique       2      4       2       2              3         3   \n",
       "top     Female  51-64     Yes      No             No  Moderate   \n",
       "freq       913    475    1657     984            744       697   \n",
       "\n",
       "       BreathShortness VisualChanges NoseBleeding Whendiagnoused   Systolic  \\\n",
       "count             1825          1825         1825           1825       1825   \n",
       "unique               2             2            3              3          5   \n",
       "top                 No            No          No         <1 Year  111 - 120   \n",
       "freq               976           940          984            625       1008   \n",
       "\n",
       "       Diastolic ControlledDiet                  Stages  \n",
       "count       1825           1825                    1825  \n",
       "unique         5              2                       6  \n",
       "top      81 - 90             No  HYPERTENSION (Stage-1)  \n",
       "freq         708            984                     648  "
      ]
     },
     "execution_count": 8,
     "metadata": {},
     "output_type": "execute_result"
    }
   ],
   "source": [
    "df.describe()"
   ]
  },
  {
   "cell_type": "code",
   "execution_count": 9,
   "id": "6e219503-1c5a-4ef5-af18-86afb4ba3814",
   "metadata": {},
   "outputs": [
    {
     "data": {
      "text/plain": [
       "Gender             0\n",
       "Age                0\n",
       "History            0\n",
       "Patient            0\n",
       "TakeMedication     0\n",
       "Severity           0\n",
       "BreathShortness    0\n",
       "VisualChanges      0\n",
       "NoseBleeding       0\n",
       "Whendiagnoused     0\n",
       "Systolic           0\n",
       "Diastolic          0\n",
       "ControlledDiet     0\n",
       "Stages             0\n",
       "dtype: int64"
      ]
     },
     "execution_count": 9,
     "metadata": {},
     "output_type": "execute_result"
    }
   ],
   "source": [
    "df.isnull().sum()"
   ]
  },
  {
   "cell_type": "code",
   "execution_count": 10,
   "id": "f857b691-93ad-4d30-aa33-487ba94acfe2",
   "metadata": {},
   "outputs": [
    {
     "data": {
      "text/html": [
       "<div>\n",
       "<style scoped>\n",
       "    .dataframe tbody tr th:only-of-type {\n",
       "        vertical-align: middle;\n",
       "    }\n",
       "\n",
       "    .dataframe tbody tr th {\n",
       "        vertical-align: top;\n",
       "    }\n",
       "\n",
       "    .dataframe thead th {\n",
       "        text-align: right;\n",
       "    }\n",
       "</style>\n",
       "<table border=\"1\" class=\"dataframe\">\n",
       "  <thead>\n",
       "    <tr style=\"text-align: right;\">\n",
       "      <th></th>\n",
       "      <th>Gender</th>\n",
       "      <th>Age</th>\n",
       "      <th>History</th>\n",
       "      <th>Patient</th>\n",
       "      <th>TakeMedication</th>\n",
       "      <th>Severity</th>\n",
       "      <th>BreathShortness</th>\n",
       "      <th>VisualChanges</th>\n",
       "      <th>NoseBleeding</th>\n",
       "      <th>Whendiagnoused</th>\n",
       "      <th>Systolic</th>\n",
       "      <th>Diastolic</th>\n",
       "      <th>ControlledDiet</th>\n",
       "      <th>Stages</th>\n",
       "    </tr>\n",
       "  </thead>\n",
       "  <tbody>\n",
       "    <tr>\n",
       "      <th>0</th>\n",
       "      <td>Male</td>\n",
       "      <td>18-34</td>\n",
       "      <td>Yes</td>\n",
       "      <td>No</td>\n",
       "      <td>No</td>\n",
       "      <td>Mild</td>\n",
       "      <td>No</td>\n",
       "      <td>No</td>\n",
       "      <td>No</td>\n",
       "      <td>&lt;1 Year</td>\n",
       "      <td>111 - 120</td>\n",
       "      <td>81 - 90</td>\n",
       "      <td>No</td>\n",
       "      <td>HYPERTENSION (Stage-1)</td>\n",
       "    </tr>\n",
       "    <tr>\n",
       "      <th>1</th>\n",
       "      <td>Female</td>\n",
       "      <td>18-34</td>\n",
       "      <td>Yes</td>\n",
       "      <td>No</td>\n",
       "      <td>No</td>\n",
       "      <td>Mild</td>\n",
       "      <td>No</td>\n",
       "      <td>No</td>\n",
       "      <td>No</td>\n",
       "      <td>&lt;1 Year</td>\n",
       "      <td>111 - 120</td>\n",
       "      <td>81 - 90</td>\n",
       "      <td>No</td>\n",
       "      <td>HYPERTENSION (Stage-1)</td>\n",
       "    </tr>\n",
       "    <tr>\n",
       "      <th>2</th>\n",
       "      <td>Male</td>\n",
       "      <td>35-50</td>\n",
       "      <td>Yes</td>\n",
       "      <td>No</td>\n",
       "      <td>No</td>\n",
       "      <td>Mild</td>\n",
       "      <td>No</td>\n",
       "      <td>No</td>\n",
       "      <td>No</td>\n",
       "      <td>&lt;1 Year</td>\n",
       "      <td>111 - 120</td>\n",
       "      <td>81 - 90</td>\n",
       "      <td>No</td>\n",
       "      <td>HYPERTENSION (Stage-1)</td>\n",
       "    </tr>\n",
       "    <tr>\n",
       "      <th>3</th>\n",
       "      <td>Female</td>\n",
       "      <td>35-50</td>\n",
       "      <td>Yes</td>\n",
       "      <td>No</td>\n",
       "      <td>No</td>\n",
       "      <td>Mild</td>\n",
       "      <td>No</td>\n",
       "      <td>No</td>\n",
       "      <td>No</td>\n",
       "      <td>&lt;1 Year</td>\n",
       "      <td>111 - 120</td>\n",
       "      <td>81 - 90</td>\n",
       "      <td>No</td>\n",
       "      <td>HYPERTENSION (Stage-1)</td>\n",
       "    </tr>\n",
       "    <tr>\n",
       "      <th>4</th>\n",
       "      <td>Male</td>\n",
       "      <td>51-64</td>\n",
       "      <td>Yes</td>\n",
       "      <td>No</td>\n",
       "      <td>No</td>\n",
       "      <td>Mild</td>\n",
       "      <td>No</td>\n",
       "      <td>No</td>\n",
       "      <td>No</td>\n",
       "      <td>&lt;1 Year</td>\n",
       "      <td>111 - 120</td>\n",
       "      <td>81 - 90</td>\n",
       "      <td>No</td>\n",
       "      <td>HYPERTENSION (Stage-1)</td>\n",
       "    </tr>\n",
       "  </tbody>\n",
       "</table>\n",
       "</div>"
      ],
      "text/plain": [
       "   Gender    Age History Patient TakeMedication Severity BreathShortness  \\\n",
       "0    Male  18-34     Yes      No             No     Mild              No   \n",
       "1  Female  18-34     Yes      No             No     Mild              No   \n",
       "2    Male  35-50     Yes      No             No     Mild              No   \n",
       "3  Female  35-50     Yes      No             No     Mild              No   \n",
       "4    Male  51-64     Yes      No             No     Mild              No   \n",
       "\n",
       "  VisualChanges NoseBleeding Whendiagnoused   Systolic Diastolic  \\\n",
       "0            No          No         <1 Year  111 - 120   81 - 90   \n",
       "1            No          No         <1 Year  111 - 120   81 - 90   \n",
       "2            No          No         <1 Year  111 - 120   81 - 90   \n",
       "3            No          No         <1 Year  111 - 120   81 - 90   \n",
       "4            No          No         <1 Year  111 - 120   81 - 90   \n",
       "\n",
       "  ControlledDiet                  Stages  \n",
       "0             No  HYPERTENSION (Stage-1)  \n",
       "1             No  HYPERTENSION (Stage-1)  \n",
       "2             No  HYPERTENSION (Stage-1)  \n",
       "3             No  HYPERTENSION (Stage-1)  \n",
       "4             No  HYPERTENSION (Stage-1)  "
      ]
     },
     "execution_count": 10,
     "metadata": {},
     "output_type": "execute_result"
    }
   ],
   "source": [
    "df.head()"
   ]
  },
  {
   "cell_type": "code",
   "execution_count": 11,
   "id": "6b5d2855-c984-4172-9110-0831e090e707",
   "metadata": {},
   "outputs": [],
   "source": [
    "from sklearn.preprocessing import LabelEncoder"
   ]
  },
  {
   "cell_type": "code",
   "execution_count": 12,
   "id": "bf68b5dd-76d3-400f-a71b-a9283575f6b3",
   "metadata": {},
   "outputs": [
    {
     "data": {
      "text/plain": [
       "Gender\n",
       "Female    913\n",
       "Male      912\n",
       "Name: count, dtype: int64"
      ]
     },
     "execution_count": 12,
     "metadata": {},
     "output_type": "execute_result"
    }
   ],
   "source": [
    "df['Gender'].value_counts()"
   ]
  },
  {
   "cell_type": "code",
   "execution_count": 13,
   "id": "05bfd6dc-17d1-4f77-94d0-560b83587dc5",
   "metadata": {},
   "outputs": [
    {
     "data": {
      "text/plain": [
       "array(['HYPERTENSION (Stage-1)', 'HYPERTENSION (Stage-2)',\n",
       "       'HYPERTENSIVE CRISIS', 'HYPERTENSION (Stage-2).',\n",
       "       'HYPERTENSIVE CRISI', 'NORMAL'], dtype=object)"
      ]
     },
     "execution_count": 13,
     "metadata": {},
     "output_type": "execute_result"
    }
   ],
   "source": [
    "df['Stages'].unique()"
   ]
  },
  {
   "cell_type": "code",
   "execution_count": 14,
   "id": "492729ed-a9f4-40c6-afcd-019690560199",
   "metadata": {},
   "outputs": [],
   "source": [
    "df['Stages'] = df['Stages'].replace({'HYPERTENSION (Stage-2).': 'HYPERTENSION (Stage-2)',\n",
    "                                     'HYPERTENSIVE CRISI': 'HYPERTENSIVE CRISIS'})\n"
   ]
  },
  {
   "cell_type": "code",
   "execution_count": 15,
   "id": "dc701207-4a72-47bd-9762-f9112b543d89",
   "metadata": {},
   "outputs": [
    {
     "data": {
      "text/html": [
       "<div>\n",
       "<style scoped>\n",
       "    .dataframe tbody tr th:only-of-type {\n",
       "        vertical-align: middle;\n",
       "    }\n",
       "\n",
       "    .dataframe tbody tr th {\n",
       "        vertical-align: top;\n",
       "    }\n",
       "\n",
       "    .dataframe thead th {\n",
       "        text-align: right;\n",
       "    }\n",
       "</style>\n",
       "<table border=\"1\" class=\"dataframe\">\n",
       "  <thead>\n",
       "    <tr style=\"text-align: right;\">\n",
       "      <th></th>\n",
       "      <th>Gender</th>\n",
       "      <th>Age</th>\n",
       "      <th>History</th>\n",
       "      <th>Patient</th>\n",
       "      <th>TakeMedication</th>\n",
       "      <th>Severity</th>\n",
       "      <th>BreathShortness</th>\n",
       "      <th>VisualChanges</th>\n",
       "      <th>NoseBleeding</th>\n",
       "      <th>Whendiagnoused</th>\n",
       "      <th>Systolic</th>\n",
       "      <th>Diastolic</th>\n",
       "      <th>ControlledDiet</th>\n",
       "      <th>Stages</th>\n",
       "    </tr>\n",
       "  </thead>\n",
       "  <tbody>\n",
       "    <tr>\n",
       "      <th>0</th>\n",
       "      <td>Male</td>\n",
       "      <td>18-34</td>\n",
       "      <td>Yes</td>\n",
       "      <td>No</td>\n",
       "      <td>No</td>\n",
       "      <td>Mild</td>\n",
       "      <td>No</td>\n",
       "      <td>No</td>\n",
       "      <td>No</td>\n",
       "      <td>&lt;1 Year</td>\n",
       "      <td>111 - 120</td>\n",
       "      <td>81 - 90</td>\n",
       "      <td>No</td>\n",
       "      <td>HYPERTENSION (Stage-1)</td>\n",
       "    </tr>\n",
       "    <tr>\n",
       "      <th>1</th>\n",
       "      <td>Female</td>\n",
       "      <td>18-34</td>\n",
       "      <td>Yes</td>\n",
       "      <td>No</td>\n",
       "      <td>No</td>\n",
       "      <td>Mild</td>\n",
       "      <td>No</td>\n",
       "      <td>No</td>\n",
       "      <td>No</td>\n",
       "      <td>&lt;1 Year</td>\n",
       "      <td>111 - 120</td>\n",
       "      <td>81 - 90</td>\n",
       "      <td>No</td>\n",
       "      <td>HYPERTENSION (Stage-1)</td>\n",
       "    </tr>\n",
       "  </tbody>\n",
       "</table>\n",
       "</div>"
      ],
      "text/plain": [
       "   Gender    Age History Patient TakeMedication Severity BreathShortness  \\\n",
       "0    Male  18-34     Yes      No             No     Mild              No   \n",
       "1  Female  18-34     Yes      No             No     Mild              No   \n",
       "\n",
       "  VisualChanges NoseBleeding Whendiagnoused   Systolic Diastolic  \\\n",
       "0            No          No         <1 Year  111 - 120   81 - 90   \n",
       "1            No          No         <1 Year  111 - 120   81 - 90   \n",
       "\n",
       "  ControlledDiet                  Stages  \n",
       "0             No  HYPERTENSION (Stage-1)  \n",
       "1             No  HYPERTENSION (Stage-1)  "
      ]
     },
     "execution_count": 15,
     "metadata": {},
     "output_type": "execute_result"
    }
   ],
   "source": [
    "df.head(2)"
   ]
  },
  {
   "cell_type": "code",
   "execution_count": 16,
   "id": "a06ad636-d8b4-40fb-a54c-837c8779e7ee",
   "metadata": {},
   "outputs": [],
   "source": [
    "label_encode = LabelEncoder()\n",
    "columns = ['Gender','History','Patient','TakeMedication','Severity','BreathShortness','VisualChanges','NoseBleeding',\n",
    "           'ControlledDiet','Stages']\n",
    "for col in columns:\n",
    "    df[col] = label_encode.fit_transform(df[col])"
   ]
  },
  {
   "cell_type": "code",
   "execution_count": 17,
   "id": "a43fe848-f1bb-47a7-870c-62e5ecd2f08e",
   "metadata": {},
   "outputs": [
    {
     "data": {
      "text/plain": [
       "array([0, 1, 2, 3])"
      ]
     },
     "execution_count": 17,
     "metadata": {},
     "output_type": "execute_result"
    }
   ],
   "source": [
    "df['Stages'].unique()"
   ]
  },
  {
   "cell_type": "code",
   "execution_count": 18,
   "id": "454c180f-fe2c-41e7-ac37-ab1903912c3c",
   "metadata": {},
   "outputs": [
    {
     "data": {
      "text/plain": [
       "array([1, 0])"
      ]
     },
     "execution_count": 18,
     "metadata": {},
     "output_type": "execute_result"
    }
   ],
   "source": [
    "df['Gender'].unique()"
   ]
  },
  {
   "cell_type": "code",
   "execution_count": 19,
   "id": "2716caac-8f75-40c3-a292-a96cf7e4c714",
   "metadata": {},
   "outputs": [],
   "source": [
    "# Use raw strings (r'...') to avoid warnings\n",
    "df['Age'] = df['Age'].astype(str).str.extract(r'(\\d+\\.?\\d*)')\n",
    "df['Systolic'] = df['Systolic'].astype(str).str.extract(r'(\\d+\\.?\\d*)')\n",
    "df['Diastolic'] = df['Diastolic'].astype(str).str.extract(r'(\\d+\\.?\\d*)')\n"
   ]
  },
  {
   "cell_type": "code",
   "execution_count": 20,
   "id": "e5b43685-4459-4f9e-a9e8-b42f6665731a",
   "metadata": {},
   "outputs": [],
   "source": [
    "df['Age'] = pd.to_numeric(df['Age'], errors='coerce')\n",
    "df['Systolic'] = pd.to_numeric(df['Systolic'], errors='coerce')\n",
    "df['Diastolic'] = pd.to_numeric(df['Diastolic'], errors='coerce')\n",
    "\n",
    "df_clean = df[['Age', 'Systolic', 'Diastolic']].dropna()"
   ]
  },
  {
   "cell_type": "code",
   "execution_count": 21,
   "id": "22590c8d-32ce-4924-be6b-019bff174044",
   "metadata": {},
   "outputs": [
    {
     "name": "stdout",
     "output_type": "stream",
     "text": [
      "Age          int64\n",
      "Systolic     int64\n",
      "Diastolic    int64\n",
      "dtype: object\n"
     ]
    }
   ],
   "source": [
    "print(df[['Age','Systolic','Diastolic']].dtypes)\n"
   ]
  },
  {
   "cell_type": "code",
   "execution_count": 22,
   "id": "73fe7a48-69fd-4a23-a51e-e502b00d9621",
   "metadata": {},
   "outputs": [
    {
     "data": {
      "text/plain": [
       "array([111, 121, 130, 100])"
      ]
     },
     "execution_count": 22,
     "metadata": {},
     "output_type": "execute_result"
    }
   ],
   "source": [
    "df['Systolic'].unique()"
   ]
  },
  {
   "cell_type": "code",
   "execution_count": 23,
   "id": "bbc33f09-3afb-425e-b580-5af10cb00483",
   "metadata": {},
   "outputs": [
    {
     "data": {
      "text/plain": [
       "array([ 81,  91, 100, 130,  70])"
      ]
     },
     "execution_count": 23,
     "metadata": {},
     "output_type": "execute_result"
    }
   ],
   "source": [
    "df['Diastolic'].unique()"
   ]
  },
  {
   "cell_type": "code",
   "execution_count": 24,
   "id": "cde84052-64aa-4181-8a53-ff8635207e6b",
   "metadata": {},
   "outputs": [
    {
     "name": "stdout",
     "output_type": "stream",
     "text": [
      "   Systolic  Diastolic\n",
      "0 -0.813748  -0.366384\n",
      "1 -0.813748  -0.366384\n",
      "2 -0.813748  -0.366384\n",
      "3 -0.813748  -0.366384\n",
      "4 -0.813748  -0.366384\n"
     ]
    }
   ],
   "source": [
    "import pandas as pd\n",
    "from sklearn.preprocessing import StandardScaler\n",
    "\n",
    "# Example: Load your data\n",
    "# df = pd.read_csv('patient.csv')\n",
    "\n",
    "# STEP 1: Make sure columns are numeric\n",
    "df['Systolic'] = pd.to_numeric(df['Systolic'], errors='coerce')\n",
    "df['Diastolic'] = pd.to_numeric(df['Diastolic'], errors='coerce')\n",
    "\n",
    "# STEP 2: Apply StandardScaler\n",
    "scaler = StandardScaler()\n",
    "df[['Systolic', 'Diastolic']] = scaler.fit_transform(df[['Systolic', 'Diastolic']])\n",
    "\n",
    "# STEP 3: Check result\n",
    "print(df[['Systolic', 'Diastolic']].head())\n"
   ]
  },
  {
   "cell_type": "code",
   "execution_count": 25,
   "id": "137a359e-9f7c-46c9-a103-c5f44c66759e",
   "metadata": {},
   "outputs": [
    {
     "name": "stdout",
     "output_type": "stream",
     "text": [
      "[0 3 6]\n"
     ]
    }
   ],
   "source": [
    "experience_mapping = {\n",
    "    '<1 Year': 0,\n",
    "    '1 - 5 Years': 3,\n",
    "    '>5 Years': 6\n",
    "}\n",
    "df['Whendiagnoused'] = df['Whendiagnoused'].map(experience_mapping)\n",
    "\n",
    "# Check result\n",
    "print(df['Whendiagnoused'].unique())"
   ]
  },
  {
   "cell_type": "markdown",
   "id": "0d2fe5f8-91dd-4c32-9c9d-4324b7b3ef90",
   "metadata": {},
   "source": [
    "# Exploratory Data Analysis"
   ]
  },
  {
   "cell_type": "code",
   "execution_count": 26,
   "id": "41f6e2df-e7e0-4179-9c02-be1fe1ed735e",
   "metadata": {},
   "outputs": [
    {
     "data": {
      "text/html": [
       "<div>\n",
       "<style scoped>\n",
       "    .dataframe tbody tr th:only-of-type {\n",
       "        vertical-align: middle;\n",
       "    }\n",
       "\n",
       "    .dataframe tbody tr th {\n",
       "        vertical-align: top;\n",
       "    }\n",
       "\n",
       "    .dataframe thead th {\n",
       "        text-align: right;\n",
       "    }\n",
       "</style>\n",
       "<table border=\"1\" class=\"dataframe\">\n",
       "  <thead>\n",
       "    <tr style=\"text-align: right;\">\n",
       "      <th></th>\n",
       "      <th>Gender</th>\n",
       "      <th>Age</th>\n",
       "      <th>History</th>\n",
       "      <th>Patient</th>\n",
       "      <th>TakeMedication</th>\n",
       "      <th>Severity</th>\n",
       "      <th>BreathShortness</th>\n",
       "      <th>VisualChanges</th>\n",
       "      <th>NoseBleeding</th>\n",
       "      <th>Whendiagnoused</th>\n",
       "      <th>Systolic</th>\n",
       "      <th>Diastolic</th>\n",
       "      <th>ControlledDiet</th>\n",
       "      <th>Stages</th>\n",
       "    </tr>\n",
       "  </thead>\n",
       "  <tbody>\n",
       "    <tr>\n",
       "      <th>count</th>\n",
       "      <td>1825.000000</td>\n",
       "      <td>1825.00000</td>\n",
       "      <td>1825.000000</td>\n",
       "      <td>1825.000000</td>\n",
       "      <td>1825.000000</td>\n",
       "      <td>1825.000000</td>\n",
       "      <td>1825.000000</td>\n",
       "      <td>1825.000000</td>\n",
       "      <td>1825.000000</td>\n",
       "      <td>1825.000000</td>\n",
       "      <td>1.825000e+03</td>\n",
       "      <td>1.825000e+03</td>\n",
       "      <td>1825.000000</td>\n",
       "      <td>1825.000000</td>\n",
       "    </tr>\n",
       "    <tr>\n",
       "      <th>mean</th>\n",
       "      <td>0.499726</td>\n",
       "      <td>41.35726</td>\n",
       "      <td>0.907945</td>\n",
       "      <td>0.460822</td>\n",
       "      <td>0.921096</td>\n",
       "      <td>1.013151</td>\n",
       "      <td>0.465205</td>\n",
       "      <td>0.484932</td>\n",
       "      <td>1.026849</td>\n",
       "      <td>2.998356</td>\n",
       "      <td>-4.360591e-16</td>\n",
       "      <td>5.606474e-16</td>\n",
       "      <td>0.460822</td>\n",
       "      <td>1.145205</td>\n",
       "    </tr>\n",
       "    <tr>\n",
       "      <th>std</th>\n",
       "      <td>0.500137</td>\n",
       "      <td>17.31147</td>\n",
       "      <td>0.289183</td>\n",
       "      <td>0.498599</td>\n",
       "      <td>0.854759</td>\n",
       "      <td>0.786287</td>\n",
       "      <td>0.498925</td>\n",
       "      <td>0.499910</td>\n",
       "      <td>0.678493</td>\n",
       "      <td>2.482504</td>\n",
       "      <td>1.000274e+00</td>\n",
       "      <td>1.000274e+00</td>\n",
       "      <td>0.498599</td>\n",
       "      <td>1.096876</td>\n",
       "    </tr>\n",
       "    <tr>\n",
       "      <th>min</th>\n",
       "      <td>0.000000</td>\n",
       "      <td>18.00000</td>\n",
       "      <td>0.000000</td>\n",
       "      <td>0.000000</td>\n",
       "      <td>0.000000</td>\n",
       "      <td>0.000000</td>\n",
       "      <td>0.000000</td>\n",
       "      <td>0.000000</td>\n",
       "      <td>0.000000</td>\n",
       "      <td>0.000000</td>\n",
       "      <td>-2.413746e+00</td>\n",
       "      <td>-1.515089e+00</td>\n",
       "      <td>0.000000</td>\n",
       "      <td>0.000000</td>\n",
       "    </tr>\n",
       "    <tr>\n",
       "      <th>25%</th>\n",
       "      <td>0.000000</td>\n",
       "      <td>18.00000</td>\n",
       "      <td>1.000000</td>\n",
       "      <td>0.000000</td>\n",
       "      <td>0.000000</td>\n",
       "      <td>0.000000</td>\n",
       "      <td>0.000000</td>\n",
       "      <td>0.000000</td>\n",
       "      <td>1.000000</td>\n",
       "      <td>0.000000</td>\n",
       "      <td>-8.137476e-01</td>\n",
       "      <td>-3.663840e-01</td>\n",
       "      <td>0.000000</td>\n",
       "      <td>0.000000</td>\n",
       "    </tr>\n",
       "    <tr>\n",
       "      <th>50%</th>\n",
       "      <td>0.000000</td>\n",
       "      <td>35.00000</td>\n",
       "      <td>1.000000</td>\n",
       "      <td>0.000000</td>\n",
       "      <td>1.000000</td>\n",
       "      <td>1.000000</td>\n",
       "      <td>0.000000</td>\n",
       "      <td>0.000000</td>\n",
       "      <td>1.000000</td>\n",
       "      <td>3.000000</td>\n",
       "      <td>-8.137476e-01</td>\n",
       "      <td>-3.663840e-01</td>\n",
       "      <td>0.000000</td>\n",
       "      <td>1.000000</td>\n",
       "    </tr>\n",
       "    <tr>\n",
       "      <th>75%</th>\n",
       "      <td>1.000000</td>\n",
       "      <td>51.00000</td>\n",
       "      <td>1.000000</td>\n",
       "      <td>1.000000</td>\n",
       "      <td>2.000000</td>\n",
       "      <td>2.000000</td>\n",
       "      <td>1.000000</td>\n",
       "      <td>1.000000</td>\n",
       "      <td>1.000000</td>\n",
       "      <td>6.000000</td>\n",
       "      <td>6.407963e-01</td>\n",
       "      <td>6.778933e-01</td>\n",
       "      <td>1.000000</td>\n",
       "      <td>2.000000</td>\n",
       "    </tr>\n",
       "    <tr>\n",
       "      <th>max</th>\n",
       "      <td>1.000000</td>\n",
       "      <td>65.00000</td>\n",
       "      <td>1.000000</td>\n",
       "      <td>1.000000</td>\n",
       "      <td>2.000000</td>\n",
       "      <td>2.000000</td>\n",
       "      <td>1.000000</td>\n",
       "      <td>1.000000</td>\n",
       "      <td>2.000000</td>\n",
       "      <td>6.000000</td>\n",
       "      <td>1.949886e+00</td>\n",
       "      <td>4.750575e+00</td>\n",
       "      <td>1.000000</td>\n",
       "      <td>3.000000</td>\n",
       "    </tr>\n",
       "  </tbody>\n",
       "</table>\n",
       "</div>"
      ],
      "text/plain": [
       "            Gender         Age      History      Patient  TakeMedication  \\\n",
       "count  1825.000000  1825.00000  1825.000000  1825.000000     1825.000000   \n",
       "mean      0.499726    41.35726     0.907945     0.460822        0.921096   \n",
       "std       0.500137    17.31147     0.289183     0.498599        0.854759   \n",
       "min       0.000000    18.00000     0.000000     0.000000        0.000000   \n",
       "25%       0.000000    18.00000     1.000000     0.000000        0.000000   \n",
       "50%       0.000000    35.00000     1.000000     0.000000        1.000000   \n",
       "75%       1.000000    51.00000     1.000000     1.000000        2.000000   \n",
       "max       1.000000    65.00000     1.000000     1.000000        2.000000   \n",
       "\n",
       "          Severity  BreathShortness  VisualChanges  NoseBleeding  \\\n",
       "count  1825.000000      1825.000000    1825.000000   1825.000000   \n",
       "mean      1.013151         0.465205       0.484932      1.026849   \n",
       "std       0.786287         0.498925       0.499910      0.678493   \n",
       "min       0.000000         0.000000       0.000000      0.000000   \n",
       "25%       0.000000         0.000000       0.000000      1.000000   \n",
       "50%       1.000000         0.000000       0.000000      1.000000   \n",
       "75%       2.000000         1.000000       1.000000      1.000000   \n",
       "max       2.000000         1.000000       1.000000      2.000000   \n",
       "\n",
       "       Whendiagnoused      Systolic     Diastolic  ControlledDiet       Stages  \n",
       "count     1825.000000  1.825000e+03  1.825000e+03     1825.000000  1825.000000  \n",
       "mean         2.998356 -4.360591e-16  5.606474e-16        0.460822     1.145205  \n",
       "std          2.482504  1.000274e+00  1.000274e+00        0.498599     1.096876  \n",
       "min          0.000000 -2.413746e+00 -1.515089e+00        0.000000     0.000000  \n",
       "25%          0.000000 -8.137476e-01 -3.663840e-01        0.000000     0.000000  \n",
       "50%          3.000000 -8.137476e-01 -3.663840e-01        0.000000     1.000000  \n",
       "75%          6.000000  6.407963e-01  6.778933e-01        1.000000     2.000000  \n",
       "max          6.000000  1.949886e+00  4.750575e+00        1.000000     3.000000  "
      ]
     },
     "execution_count": 26,
     "metadata": {},
     "output_type": "execute_result"
    }
   ],
   "source": [
    "df.describe()"
   ]
  },
  {
   "cell_type": "code",
   "execution_count": 27,
   "id": "178470d8-2cac-47f1-bed6-701819e0d3d8",
   "metadata": {},
   "outputs": [],
   "source": [
    "gender_counts = df['Gender'].value_counts()"
   ]
  },
  {
   "cell_type": "code",
   "execution_count": 28,
   "id": "dbde4532-4b86-4117-bca4-583f18f55da2",
   "metadata": {},
   "outputs": [
    {
     "data": {
      "image/png": "[encoded data removed]",
      "text/plain": [
       "<Figure size 640x480 with 1 Axes>"
      ]
     },
     "metadata": {},
     "output_type": "display_data"
    }
   ],
   "source": [
    "plt.pie(gender_counts, labels = gender_counts.index, autopct= '%1.1f%%', startangle=140)\n",
    "plt.title(\"Gender Distrimination\")\n",
    "plt.axis('equal')\n",
    "plt.show()"
   ]
  },
  {
   "cell_type": "code",
   "execution_count": 29,
   "id": "67498dbb-6ff7-4212-b8f0-bb790f663f79",
   "metadata": {
    "scrolled": true
   },
   "outputs": [
    {
     "data": {
      "image/png": "[encoded data removed]",
      "text/plain": [
       "<Figure size 640x480 with 1 Axes>"
      ]
     },
     "metadata": {},
     "output_type": "display_data"
    },
    {
     "data": {
      "image/png": "[encoded data removed]",
      "text/plain": [
       "<Figure size 600x600 with 1 Axes>"
      ]
     },
     "metadata": {},
     "output_type": "display_data"
    }
   ],
   "source": [
    "frequency = df['Stages'].value_counts()\n",
    "frequency.plot(kind='bar')\n",
    "plt.figure(figsize=(6,6))\n",
    "plt.xlabel('Stages')\n",
    "plt.ylabel('frequency')\n",
    "plt.title('count of stages')\n",
    "plt.show()"
   ]
  },
  {
   "cell_type": "code",
   "execution_count": 30,
   "id": "5a344798-6750-4db7-be55-6d32f15368ee",
   "metadata": {
    "scrolled": true
   },
   "outputs": [
    {
     "data": {
      "image/png": "[encoded data removed]",
      "text/plain": [
       "<Figure size 640x480 with 1 Axes>"
      ]
     },
     "metadata": {},
     "output_type": "display_data"
    }
   ],
   "source": [
    "sns.countplot(x = 'TakeMedication', hue = 'Severity',data = df)\n",
    "plt.title(\"Count plot of TakeMedication by Severity\")\n",
    "plt.show()"
   ]
  },
  {
   "cell_type": "code",
   "execution_count": 31,
   "id": "c1b5ae72-51ce-4571-875a-f56e5a4da6c8",
   "metadata": {},
   "outputs": [
    {
     "name": "stdout",
     "output_type": "stream",
     "text": [
      "Age            int64\n",
      "Systolic     float64\n",
      "Diastolic    float64\n",
      "dtype: object\n"
     ]
    }
   ],
   "source": [
    "print(df[['Age','Systolic','Diastolic']].dtypes)\n"
   ]
  },
  {
   "cell_type": "code",
   "execution_count": 32,
   "id": "fbd83d8f-0cf3-403a-bcaa-7b23ad30d1b8",
   "metadata": {},
   "outputs": [],
   "source": [
    "%matplotlib inline\n"
   ]
  },
  {
   "cell_type": "code",
   "execution_count": 33,
   "id": "cc066bda-6a4c-4c87-ab43-639ae137e321",
   "metadata": {},
   "outputs": [
    {
     "name": "stdout",
     "output_type": "stream",
     "text": [
      "   Age  Systolic  Diastolic\n",
      "0   18 -0.813748  -0.366384\n",
      "1   18 -0.813748  -0.366384\n",
      "2   35 -0.813748  -0.366384\n",
      "3   35 -0.813748  -0.366384\n",
      "4   51 -0.813748  -0.366384\n",
      "              Age      Systolic     Diastolic\n",
      "count  1825.00000  1.825000e+03  1.825000e+03\n",
      "mean     41.35726 -4.360591e-16  5.606474e-16\n",
      "std      17.31147  1.000274e+00  1.000274e+00\n",
      "min      18.00000 -2.413746e+00 -1.515089e+00\n",
      "25%      18.00000 -8.137476e-01 -3.663840e-01\n",
      "50%      35.00000 -8.137476e-01 -3.663840e-01\n",
      "75%      51.00000  6.407963e-01  6.778933e-01\n",
      "max      65.00000  1.949886e+00  4.750575e+00\n",
      "Age          0\n",
      "Systolic     0\n",
      "Diastolic    0\n",
      "dtype: int64\n"
     ]
    }
   ],
   "source": [
    "print(df[['Age','Systolic','Diastolic']].head())\n",
    "print(df[['Age','Systolic','Diastolic']].describe())\n",
    "print(df[['Age','Systolic','Diastolic']].isnull().sum())"
   ]
  },
  {
   "cell_type": "code",
   "execution_count": 34,
   "id": "054ed375-32a8-4003-b789-756884b1f3c9",
   "metadata": {},
   "outputs": [],
   "source": [
    "# Use raw strings (r'...') to avoid warnings\n",
    "df['Age'] = df['Age'].astype(str).str.extract(r'(\\d+\\.?\\d*)')\n",
    "df['Systolic'] = df['Systolic'].astype(str).str.extract(r'(\\d+\\.?\\d*)')\n",
    "df['Diastolic'] = df['Diastolic'].astype(str).str.extract(r'(\\d+\\.?\\d*)')\n"
   ]
  },
  {
   "cell_type": "code",
   "execution_count": 35,
   "id": "40a2d7ec-31e5-46dd-b589-9da7a4a4bc52",
   "metadata": {},
   "outputs": [],
   "source": [
    "df['Age'] = pd.to_numeric(df['Age'], errors='coerce')\n",
    "df['Systolic'] = pd.to_numeric(df['Systolic'], errors='coerce')\n",
    "df['Diastolic'] = pd.to_numeric(df['Diastolic'], errors='coerce')\n",
    "\n",
    "df_clean = df[['Age', 'Systolic', 'Diastolic']].dropna()"
   ]
  },
  {
   "cell_type": "code",
   "execution_count": 36,
   "id": "c3a64b89-dfef-4760-95d0-6aa6352c4626",
   "metadata": {},
   "outputs": [
    {
     "name": "stdout",
     "output_type": "stream",
     "text": [
      "Age            int64\n",
      "Systolic     float64\n",
      "Diastolic    float64\n",
      "dtype: object\n"
     ]
    }
   ],
   "source": [
    "print(df[['Age','Systolic','Diastolic']].dtypes)\n"
   ]
  },
  {
   "cell_type": "code",
   "execution_count": 37,
   "id": "010c70ce-a821-47c9-9c11-7ce551ef23a7",
   "metadata": {},
   "outputs": [
    {
     "data": {
      "image/png": "[encoded data removed]",
      "text/plain": [
       "<Figure size 750x750 with 12 Axes>"
      ]
     },
     "metadata": {},
     "output_type": "display_data"
    }
   ],
   "source": [
    "sns.pairplot(df_clean)\n",
    "plt.show()"
   ]
  },
  {
   "cell_type": "code",
   "execution_count": 38,
   "id": "82b2df7f-e497-43d4-bf80-dc3385def2cb",
   "metadata": {},
   "outputs": [
    {
     "data": {
      "text/html": [
       "<div>\n",
       "<style scoped>\n",
       "    .dataframe tbody tr th:only-of-type {\n",
       "        vertical-align: middle;\n",
       "    }\n",
       "\n",
       "    .dataframe tbody tr th {\n",
       "        vertical-align: top;\n",
       "    }\n",
       "\n",
       "    .dataframe thead th {\n",
       "        text-align: right;\n",
       "    }\n",
       "</style>\n",
       "<table border=\"1\" class=\"dataframe\">\n",
       "  <thead>\n",
       "    <tr style=\"text-align: right;\">\n",
       "      <th></th>\n",
       "      <th>Gender</th>\n",
       "      <th>Age</th>\n",
       "      <th>History</th>\n",
       "      <th>Patient</th>\n",
       "      <th>TakeMedication</th>\n",
       "      <th>Severity</th>\n",
       "      <th>BreathShortness</th>\n",
       "      <th>VisualChanges</th>\n",
       "      <th>NoseBleeding</th>\n",
       "      <th>Whendiagnoused</th>\n",
       "      <th>Systolic</th>\n",
       "      <th>Diastolic</th>\n",
       "      <th>ControlledDiet</th>\n",
       "    </tr>\n",
       "  </thead>\n",
       "  <tbody>\n",
       "    <tr>\n",
       "      <th>0</th>\n",
       "      <td>1</td>\n",
       "      <td>18</td>\n",
       "      <td>1</td>\n",
       "      <td>0</td>\n",
       "      <td>0</td>\n",
       "      <td>0</td>\n",
       "      <td>0</td>\n",
       "      <td>0</td>\n",
       "      <td>1</td>\n",
       "      <td>0</td>\n",
       "      <td>0.813748</td>\n",
       "      <td>0.366384</td>\n",
       "      <td>0</td>\n",
       "    </tr>\n",
       "    <tr>\n",
       "      <th>1</th>\n",
       "      <td>0</td>\n",
       "      <td>18</td>\n",
       "      <td>1</td>\n",
       "      <td>0</td>\n",
       "      <td>0</td>\n",
       "      <td>0</td>\n",
       "      <td>0</td>\n",
       "      <td>0</td>\n",
       "      <td>1</td>\n",
       "      <td>0</td>\n",
       "      <td>0.813748</td>\n",
       "      <td>0.366384</td>\n",
       "      <td>0</td>\n",
       "    </tr>\n",
       "    <tr>\n",
       "      <th>2</th>\n",
       "      <td>1</td>\n",
       "      <td>35</td>\n",
       "      <td>1</td>\n",
       "      <td>0</td>\n",
       "      <td>0</td>\n",
       "      <td>0</td>\n",
       "      <td>0</td>\n",
       "      <td>0</td>\n",
       "      <td>1</td>\n",
       "      <td>0</td>\n",
       "      <td>0.813748</td>\n",
       "      <td>0.366384</td>\n",
       "      <td>0</td>\n",
       "    </tr>\n",
       "    <tr>\n",
       "      <th>3</th>\n",
       "      <td>0</td>\n",
       "      <td>35</td>\n",
       "      <td>1</td>\n",
       "      <td>0</td>\n",
       "      <td>0</td>\n",
       "      <td>0</td>\n",
       "      <td>0</td>\n",
       "      <td>0</td>\n",
       "      <td>1</td>\n",
       "      <td>0</td>\n",
       "      <td>0.813748</td>\n",
       "      <td>0.366384</td>\n",
       "      <td>0</td>\n",
       "    </tr>\n",
       "    <tr>\n",
       "      <th>4</th>\n",
       "      <td>1</td>\n",
       "      <td>51</td>\n",
       "      <td>1</td>\n",
       "      <td>0</td>\n",
       "      <td>0</td>\n",
       "      <td>0</td>\n",
       "      <td>0</td>\n",
       "      <td>0</td>\n",
       "      <td>1</td>\n",
       "      <td>0</td>\n",
       "      <td>0.813748</td>\n",
       "      <td>0.366384</td>\n",
       "      <td>0</td>\n",
       "    </tr>\n",
       "    <tr>\n",
       "      <th>...</th>\n",
       "      <td>...</td>\n",
       "      <td>...</td>\n",
       "      <td>...</td>\n",
       "      <td>...</td>\n",
       "      <td>...</td>\n",
       "      <td>...</td>\n",
       "      <td>...</td>\n",
       "      <td>...</td>\n",
       "      <td>...</td>\n",
       "      <td>...</td>\n",
       "      <td>...</td>\n",
       "      <td>...</td>\n",
       "      <td>...</td>\n",
       "    </tr>\n",
       "    <tr>\n",
       "      <th>1820</th>\n",
       "      <td>0</td>\n",
       "      <td>35</td>\n",
       "      <td>1</td>\n",
       "      <td>0</td>\n",
       "      <td>0</td>\n",
       "      <td>2</td>\n",
       "      <td>0</td>\n",
       "      <td>0</td>\n",
       "      <td>1</td>\n",
       "      <td>6</td>\n",
       "      <td>0.813748</td>\n",
       "      <td>1.515089</td>\n",
       "      <td>0</td>\n",
       "    </tr>\n",
       "    <tr>\n",
       "      <th>1821</th>\n",
       "      <td>1</td>\n",
       "      <td>51</td>\n",
       "      <td>1</td>\n",
       "      <td>0</td>\n",
       "      <td>0</td>\n",
       "      <td>2</td>\n",
       "      <td>0</td>\n",
       "      <td>0</td>\n",
       "      <td>1</td>\n",
       "      <td>6</td>\n",
       "      <td>0.813748</td>\n",
       "      <td>1.515089</td>\n",
       "      <td>0</td>\n",
       "    </tr>\n",
       "    <tr>\n",
       "      <th>1822</th>\n",
       "      <td>0</td>\n",
       "      <td>51</td>\n",
       "      <td>1</td>\n",
       "      <td>0</td>\n",
       "      <td>0</td>\n",
       "      <td>2</td>\n",
       "      <td>0</td>\n",
       "      <td>0</td>\n",
       "      <td>1</td>\n",
       "      <td>6</td>\n",
       "      <td>0.813748</td>\n",
       "      <td>1.515089</td>\n",
       "      <td>0</td>\n",
       "    </tr>\n",
       "    <tr>\n",
       "      <th>1823</th>\n",
       "      <td>1</td>\n",
       "      <td>65</td>\n",
       "      <td>1</td>\n",
       "      <td>0</td>\n",
       "      <td>0</td>\n",
       "      <td>2</td>\n",
       "      <td>0</td>\n",
       "      <td>0</td>\n",
       "      <td>1</td>\n",
       "      <td>6</td>\n",
       "      <td>0.813748</td>\n",
       "      <td>1.515089</td>\n",
       "      <td>0</td>\n",
       "    </tr>\n",
       "    <tr>\n",
       "      <th>1824</th>\n",
       "      <td>0</td>\n",
       "      <td>65</td>\n",
       "      <td>1</td>\n",
       "      <td>0</td>\n",
       "      <td>0</td>\n",
       "      <td>2</td>\n",
       "      <td>0</td>\n",
       "      <td>0</td>\n",
       "      <td>1</td>\n",
       "      <td>6</td>\n",
       "      <td>0.813748</td>\n",
       "      <td>1.515089</td>\n",
       "      <td>0</td>\n",
       "    </tr>\n",
       "  </tbody>\n",
       "</table>\n",
       "<p>1825 rows × 13 columns</p>\n",
       "</div>"
      ],
      "text/plain": [
       "      Gender  Age  History  Patient  TakeMedication  Severity  \\\n",
       "0          1   18        1        0               0         0   \n",
       "1          0   18        1        0               0         0   \n",
       "2          1   35        1        0               0         0   \n",
       "3          0   35        1        0               0         0   \n",
       "4          1   51        1        0               0         0   \n",
       "...      ...  ...      ...      ...             ...       ...   \n",
       "1820       0   35        1        0               0         2   \n",
       "1821       1   51        1        0               0         2   \n",
       "1822       0   51        1        0               0         2   \n",
       "1823       1   65        1        0               0         2   \n",
       "1824       0   65        1        0               0         2   \n",
       "\n",
       "      BreathShortness  VisualChanges  NoseBleeding  Whendiagnoused  Systolic  \\\n",
       "0                   0              0             1               0  0.813748   \n",
       "1                   0              0             1               0  0.813748   \n",
       "2                   0              0             1               0  0.813748   \n",
       "3                   0              0             1               0  0.813748   \n",
       "4                   0              0             1               0  0.813748   \n",
       "...               ...            ...           ...             ...       ...   \n",
       "1820                0              0             1               6  0.813748   \n",
       "1821                0              0             1               6  0.813748   \n",
       "1822                0              0             1               6  0.813748   \n",
       "1823                0              0             1               6  0.813748   \n",
       "1824                0              0             1               6  0.813748   \n",
       "\n",
       "      Diastolic  ControlledDiet  \n",
       "0      0.366384               0  \n",
       "1      0.366384               0  \n",
       "2      0.366384               0  \n",
       "3      0.366384               0  \n",
       "4      0.366384               0  \n",
       "...         ...             ...  \n",
       "1820   1.515089               0  \n",
       "1821   1.515089               0  \n",
       "1822   1.515089               0  \n",
       "1823   1.515089               0  \n",
       "1824   1.515089               0  \n",
       "\n",
       "[1825 rows x 13 columns]"
      ]
     },
     "execution_count": 38,
     "metadata": {},
     "output_type": "execute_result"
    }
   ],
   "source": [
    "X = df.drop('Stages',axis = 1)\n",
    "X"
   ]
  },
  {
   "cell_type": "code",
   "execution_count": 39,
   "id": "c9ce1285-dc40-4e8a-99c6-ca9c800a782b",
   "metadata": {},
   "outputs": [
    {
     "data": {
      "text/plain": [
       "0       0\n",
       "1       0\n",
       "2       0\n",
       "3       0\n",
       "4       0\n",
       "       ..\n",
       "1820    3\n",
       "1821    3\n",
       "1822    3\n",
       "1823    3\n",
       "1824    3\n",
       "Name: Stages, Length: 1825, dtype: int64"
      ]
     },
     "execution_count": 39,
     "metadata": {},
     "output_type": "execute_result"
    }
   ],
   "source": [
    "Y = df['Stages']\n",
    "Y"
   ]
  },
  {
   "cell_type": "code",
   "execution_count": 40,
   "id": "ec9639cd-96cf-48fa-a532-4c91c8ec833d",
   "metadata": {},
   "outputs": [],
   "source": [
    "from sklearn.model_selection import train_test_split\n",
    "x_train,x_test,y_train,y_test = train_test_split(X,Y,test_size=0.2,random_state=30)"
   ]
  },
  {
   "cell_type": "code",
   "execution_count": 41,
   "id": "314dac6f-9bf4-4b09-a7a5-c7abf6971a84",
   "metadata": {},
   "outputs": [
    {
     "data": {
      "text/html": [
       "<div>\n",
       "<style scoped>\n",
       "    .dataframe tbody tr th:only-of-type {\n",
       "        vertical-align: middle;\n",
       "    }\n",
       "\n",
       "    .dataframe tbody tr th {\n",
       "        vertical-align: top;\n",
       "    }\n",
       "\n",
       "    .dataframe thead th {\n",
       "        text-align: right;\n",
       "    }\n",
       "</style>\n",
       "<table border=\"1\" class=\"dataframe\">\n",
       "  <thead>\n",
       "    <tr style=\"text-align: right;\">\n",
       "      <th></th>\n",
       "      <th>Gender</th>\n",
       "      <th>Age</th>\n",
       "      <th>History</th>\n",
       "      <th>Patient</th>\n",
       "      <th>TakeMedication</th>\n",
       "      <th>Severity</th>\n",
       "      <th>BreathShortness</th>\n",
       "      <th>VisualChanges</th>\n",
       "      <th>NoseBleeding</th>\n",
       "      <th>Whendiagnoused</th>\n",
       "      <th>Systolic</th>\n",
       "      <th>Diastolic</th>\n",
       "      <th>ControlledDiet</th>\n",
       "    </tr>\n",
       "  </thead>\n",
       "  <tbody>\n",
       "    <tr>\n",
       "      <th>1208</th>\n",
       "      <td>0</td>\n",
       "      <td>65</td>\n",
       "      <td>1</td>\n",
       "      <td>1</td>\n",
       "      <td>2</td>\n",
       "      <td>2</td>\n",
       "      <td>1</td>\n",
       "      <td>1</td>\n",
       "      <td>2</td>\n",
       "      <td>3</td>\n",
       "      <td>0.640796</td>\n",
       "      <td>0.677893</td>\n",
       "      <td>1</td>\n",
       "    </tr>\n",
       "    <tr>\n",
       "      <th>1257</th>\n",
       "      <td>0</td>\n",
       "      <td>51</td>\n",
       "      <td>1</td>\n",
       "      <td>0</td>\n",
       "      <td>1</td>\n",
       "      <td>0</td>\n",
       "      <td>0</td>\n",
       "      <td>0</td>\n",
       "      <td>1</td>\n",
       "      <td>6</td>\n",
       "      <td>0.640796</td>\n",
       "      <td>0.366384</td>\n",
       "      <td>0</td>\n",
       "    </tr>\n",
       "    <tr>\n",
       "      <th>74</th>\n",
       "      <td>1</td>\n",
       "      <td>35</td>\n",
       "      <td>1</td>\n",
       "      <td>0</td>\n",
       "      <td>0</td>\n",
       "      <td>2</td>\n",
       "      <td>1</td>\n",
       "      <td>0</td>\n",
       "      <td>1</td>\n",
       "      <td>0</td>\n",
       "      <td>0.813748</td>\n",
       "      <td>0.366384</td>\n",
       "      <td>0</td>\n",
       "    </tr>\n",
       "    <tr>\n",
       "      <th>109</th>\n",
       "      <td>1</td>\n",
       "      <td>51</td>\n",
       "      <td>1</td>\n",
       "      <td>1</td>\n",
       "      <td>1</td>\n",
       "      <td>1</td>\n",
       "      <td>1</td>\n",
       "      <td>1</td>\n",
       "      <td>2</td>\n",
       "      <td>3</td>\n",
       "      <td>1.949886</td>\n",
       "      <td>0.677893</td>\n",
       "      <td>1</td>\n",
       "    </tr>\n",
       "    <tr>\n",
       "      <th>1396</th>\n",
       "      <td>1</td>\n",
       "      <td>35</td>\n",
       "      <td>1</td>\n",
       "      <td>1</td>\n",
       "      <td>2</td>\n",
       "      <td>1</td>\n",
       "      <td>1</td>\n",
       "      <td>1</td>\n",
       "      <td>2</td>\n",
       "      <td>6</td>\n",
       "      <td>0.640796</td>\n",
       "      <td>0.677893</td>\n",
       "      <td>1</td>\n",
       "    </tr>\n",
       "    <tr>\n",
       "      <th>...</th>\n",
       "      <td>...</td>\n",
       "      <td>...</td>\n",
       "      <td>...</td>\n",
       "      <td>...</td>\n",
       "      <td>...</td>\n",
       "      <td>...</td>\n",
       "      <td>...</td>\n",
       "      <td>...</td>\n",
       "      <td>...</td>\n",
       "      <td>...</td>\n",
       "      <td>...</td>\n",
       "      <td>...</td>\n",
       "      <td>...</td>\n",
       "    </tr>\n",
       "    <tr>\n",
       "      <th>919</th>\n",
       "      <td>0</td>\n",
       "      <td>18</td>\n",
       "      <td>1</td>\n",
       "      <td>1</td>\n",
       "      <td>2</td>\n",
       "      <td>2</td>\n",
       "      <td>1</td>\n",
       "      <td>1</td>\n",
       "      <td>0</td>\n",
       "      <td>6</td>\n",
       "      <td>0.640796</td>\n",
       "      <td>0.677893</td>\n",
       "      <td>1</td>\n",
       "    </tr>\n",
       "    <tr>\n",
       "      <th>1164</th>\n",
       "      <td>1</td>\n",
       "      <td>35</td>\n",
       "      <td>1</td>\n",
       "      <td>1</td>\n",
       "      <td>2</td>\n",
       "      <td>2</td>\n",
       "      <td>1</td>\n",
       "      <td>1</td>\n",
       "      <td>2</td>\n",
       "      <td>3</td>\n",
       "      <td>0.640796</td>\n",
       "      <td>0.366384</td>\n",
       "      <td>1</td>\n",
       "    </tr>\n",
       "    <tr>\n",
       "      <th>500</th>\n",
       "      <td>1</td>\n",
       "      <td>65</td>\n",
       "      <td>1</td>\n",
       "      <td>1</td>\n",
       "      <td>1</td>\n",
       "      <td>2</td>\n",
       "      <td>1</td>\n",
       "      <td>1</td>\n",
       "      <td>2</td>\n",
       "      <td>6</td>\n",
       "      <td>1.949886</td>\n",
       "      <td>0.366384</td>\n",
       "      <td>1</td>\n",
       "    </tr>\n",
       "    <tr>\n",
       "      <th>941</th>\n",
       "      <td>0</td>\n",
       "      <td>18</td>\n",
       "      <td>1</td>\n",
       "      <td>0</td>\n",
       "      <td>0</td>\n",
       "      <td>0</td>\n",
       "      <td>0</td>\n",
       "      <td>0</td>\n",
       "      <td>1</td>\n",
       "      <td>3</td>\n",
       "      <td>0.813748</td>\n",
       "      <td>0.677893</td>\n",
       "      <td>0</td>\n",
       "    </tr>\n",
       "    <tr>\n",
       "      <th>421</th>\n",
       "      <td>0</td>\n",
       "      <td>18</td>\n",
       "      <td>1</td>\n",
       "      <td>0</td>\n",
       "      <td>1</td>\n",
       "      <td>1</td>\n",
       "      <td>0</td>\n",
       "      <td>1</td>\n",
       "      <td>1</td>\n",
       "      <td>0</td>\n",
       "      <td>0.813748</td>\n",
       "      <td>0.366384</td>\n",
       "      <td>0</td>\n",
       "    </tr>\n",
       "  </tbody>\n",
       "</table>\n",
       "<p>1460 rows × 13 columns</p>\n",
       "</div>"
      ],
      "text/plain": [
       "      Gender  Age  History  Patient  TakeMedication  Severity  \\\n",
       "1208       0   65        1        1               2         2   \n",
       "1257       0   51        1        0               1         0   \n",
       "74         1   35        1        0               0         2   \n",
       "109        1   51        1        1               1         1   \n",
       "1396       1   35        1        1               2         1   \n",
       "...      ...  ...      ...      ...             ...       ...   \n",
       "919        0   18        1        1               2         2   \n",
       "1164       1   35        1        1               2         2   \n",
       "500        1   65        1        1               1         2   \n",
       "941        0   18        1        0               0         0   \n",
       "421        0   18        1        0               1         1   \n",
       "\n",
       "      BreathShortness  VisualChanges  NoseBleeding  Whendiagnoused  Systolic  \\\n",
       "1208                1              1             2               3  0.640796   \n",
       "1257                0              0             1               6  0.640796   \n",
       "74                  1              0             1               0  0.813748   \n",
       "109                 1              1             2               3  1.949886   \n",
       "1396                1              1             2               6  0.640796   \n",
       "...               ...            ...           ...             ...       ...   \n",
       "919                 1              1             0               6  0.640796   \n",
       "1164                1              1             2               3  0.640796   \n",
       "500                 1              1             2               6  1.949886   \n",
       "941                 0              0             1               3  0.813748   \n",
       "421                 0              1             1               0  0.813748   \n",
       "\n",
       "      Diastolic  ControlledDiet  \n",
       "1208   0.677893               1  \n",
       "1257   0.366384               0  \n",
       "74     0.366384               0  \n",
       "109    0.677893               1  \n",
       "1396   0.677893               1  \n",
       "...         ...             ...  \n",
       "919    0.677893               1  \n",
       "1164   0.366384               1  \n",
       "500    0.366384               1  \n",
       "941    0.677893               0  \n",
       "421    0.366384               0  \n",
       "\n",
       "[1460 rows x 13 columns]"
      ]
     },
     "execution_count": 41,
     "metadata": {},
     "output_type": "execute_result"
    }
   ],
   "source": [
    "x_train"
   ]
  },
  {
   "cell_type": "markdown",
   "id": "c26256de-9f86-4c61-9862-20f817bd0203",
   "metadata": {},
   "source": [
    "## Logistic Regression"
   ]
  },
  {
   "cell_type": "code",
   "execution_count": 42,
   "id": "37b98a13-81f4-4893-9c5b-f6d99187a68b",
   "metadata": {},
   "outputs": [
    {
     "name": "stdout",
     "output_type": "stream",
     "text": [
      "Accuracy Score: 0.9671232876712329\n",
      "              precision    recall  f1-score   support\n",
      "\n",
      "           0       1.00      0.91      0.95       132\n",
      "           1       1.00      1.00      1.00       133\n",
      "           2       1.00      1.00      1.00        34\n",
      "           3       0.85      1.00      0.92        66\n",
      "\n",
      "    accuracy                           0.97       365\n",
      "   macro avg       0.96      0.98      0.97       365\n",
      "weighted avg       0.97      0.97      0.97       365\n",
      "\n"
     ]
    }
   ],
   "source": [
    "from sklearn.linear_model import LogisticRegression\n",
    "from sklearn.metrics import accuracy_score, classification_report\n",
    "\n",
    "logistic_regression = LogisticRegression(max_iter=1000, solver='lbfgs')\n",
    "logistic_regression.fit(x_train, y_train)\n",
    "\n",
    "\n",
    "y_pred = logistic_regression.predict(x_test)\n",
    "\n",
    "acc_lr = accuracy_score(y_test, y_pred)\n",
    "c_lr = classification_report(y_test, y_pred)\n",
    "\n",
    "print('Accuracy Score:', acc_lr)\n",
    "print(c_lr)\n"
   ]
  },
  {
   "cell_type": "markdown",
   "id": "4fcb1356-7e0e-4f70-ad10-e1f616e298ff",
   "metadata": {},
   "source": [
    "## Random Forest Regressor"
   ]
  },
  {
   "cell_type": "code",
   "execution_count": 43,
   "id": "8bfa78e9-69a0-4d0a-a707-29f3ed7ac95c",
   "metadata": {},
   "outputs": [
    {
     "name": "stdout",
     "output_type": "stream",
     "text": [
      "Accuracy Score:  1.0\n",
      "              precision    recall  f1-score   support\n",
      "\n",
      "           0       1.00      1.00      1.00       132\n",
      "           1       1.00      1.00      1.00       133\n",
      "           2       1.00      1.00      1.00        34\n",
      "           3       1.00      1.00      1.00        66\n",
      "\n",
      "    accuracy                           1.00       365\n",
      "   macro avg       1.00      1.00      1.00       365\n",
      "weighted avg       1.00      1.00      1.00       365\n",
      "\n"
     ]
    }
   ],
   "source": [
    "from sklearn.ensemble import RandomForestClassifier\n",
    "from sklearn.metrics import accuracy_score, classification_report\n",
    "\n",
    "random_forest = RandomForestClassifier()\n",
    "random_forest.fit(x_train, y_train)\n",
    "y_pred = random_forest.predict(x_test)\n",
    "\n",
    "acc_rf = accuracy_score(y_test, y_pred)\n",
    "c_rf = classification_report(y_test, y_pred)\n",
    "\n",
    "print('Accuracy Score: ', acc_rf)\n",
    "print(c_rf)\n"
   ]
  },
  {
   "cell_type": "markdown",
   "id": "e715d1f1-e62e-4da7-93d2-14a35acaba6a",
   "metadata": {},
   "source": [
    "## Decision Tree"
   ]
  },
  {
   "cell_type": "code",
   "execution_count": 44,
   "id": "7e87be83-ec0c-4f84-b0d9-f114239c6fbd",
   "metadata": {},
   "outputs": [
    {
     "name": "stdout",
     "output_type": "stream",
     "text": [
      "Accuracy Score:  1.0\n",
      "              precision    recall  f1-score   support\n",
      "\n",
      "           0       1.00      1.00      1.00       132\n",
      "           1       1.00      1.00      1.00       133\n",
      "           2       1.00      1.00      1.00        34\n",
      "           3       1.00      1.00      1.00        66\n",
      "\n",
      "    accuracy                           1.00       365\n",
      "   macro avg       1.00      1.00      1.00       365\n",
      "weighted avg       1.00      1.00      1.00       365\n",
      "\n"
     ]
    }
   ],
   "source": [
    "from sklearn.ensemble import RandomForestClassifier\n",
    "from sklearn.metrics import accuracy_score, classification_report\n",
    "\n",
    "random_forest = RandomForestClassifier()\n",
    "random_forest.fit(x_train, y_train)\n",
    "y_pred = random_forest.predict(x_test)\n",
    "\n",
    "acc_rf = accuracy_score(y_test, y_pred)\n",
    "c_rf = classification_report(y_test, y_pred)\n",
    "\n",
    "print('Accuracy Score: ', acc_rf)\n",
    "print(c_rf)"
   ]
  },
  {
   "cell_type": "markdown",
   "id": "598d0900-f107-48e8-ba2a-5e3490e793fe",
   "metadata": {},
   "source": [
    "## Gaussian Navies Bayes"
   ]
  },
  {
   "cell_type": "code",
   "execution_count": 45,
   "id": "96c917c2-5c52-41ba-a080-79b140f36a4a",
   "metadata": {},
   "outputs": [
    {
     "name": "stdout",
     "output_type": "stream",
     "text": [
      "Accuracy Score:  1.0\n",
      "              precision    recall  f1-score   support\n",
      "\n",
      "           0       1.00      1.00      1.00       132\n",
      "           1       1.00      1.00      1.00       133\n",
      "           2       1.00      1.00      1.00        34\n",
      "           3       1.00      1.00      1.00        66\n",
      "\n",
      "    accuracy                           1.00       365\n",
      "   macro avg       1.00      1.00      1.00       365\n",
      "weighted avg       1.00      1.00      1.00       365\n",
      "\n"
     ]
    }
   ],
   "source": [
    "from sklearn.naive_bayes import GaussianNB\n",
    "from sklearn.metrics import accuracy_score, classification_report\n",
    "\n",
    "NB = GaussianNB()\n",
    "NB.fit(x_train, y_train)\n",
    "y_pred = NB.predict(x_test)\n",
    "\n",
    "acc_nb = accuracy_score(y_test, y_pred)\n",
    "c_nb = classification_report(y_test, y_pred)\n",
    "\n",
    "print('Accuracy Score: ', acc_nb)\n",
    "print(c_nb)"
   ]
  },
  {
   "cell_type": "markdown",
   "id": "98c14e21-7762-4dab-8647-bc667306f39f",
   "metadata": {},
   "source": [
    "## Multinomial Navies Bayes"
   ]
  },
  {
   "cell_type": "code",
   "execution_count": 46,
   "id": "55bc2691-be81-4132-a1a0-ebb6fc8a2eed",
   "metadata": {},
   "outputs": [
    {
     "name": "stdout",
     "output_type": "stream",
     "text": [
      "Accuracy Score:  0.9041095890410958\n",
      "              precision    recall  f1-score   support\n",
      "\n",
      "           0       0.99      0.80      0.88       132\n",
      "           1       0.90      0.99      0.95       133\n",
      "           2       0.88      0.82      0.85        34\n",
      "           3       0.80      0.98      0.88        66\n",
      "\n",
      "    accuracy                           0.90       365\n",
      "   macro avg       0.89      0.90      0.89       365\n",
      "weighted avg       0.91      0.90      0.90       365\n",
      "\n"
     ]
    }
   ],
   "source": [
    "from sklearn.naive_bayes import MultinomialNB\n",
    "from sklearn.metrics import accuracy_score, classification_report\n",
    "\n",
    "mNB = MultinomialNB()\n",
    "mNB.fit(x_train, y_train)\n",
    "y_pred = mNB.predict(x_test)  # Corrected from NB.predict(x_test) to mNB.predict(x_test)\n",
    "\n",
    "acc_mnb = accuracy_score(y_test, y_pred)\n",
    "c_mnb = classification_report(y_test, y_pred)\n",
    "\n",
    "print('Accuracy Score: ', acc_mnb)\n",
    "print(c_mnb)"
   ]
  },
  {
   "cell_type": "code",
   "execution_count": 47,
   "id": "88ca52d1-2c89-4c46-b21a-0888c504cbae",
   "metadata": {},
   "outputs": [
    {
     "name": "stdout",
     "output_type": "stream",
     "text": [
      "Prediction: 0\n"
     ]
    }
   ],
   "source": [
    "feature_names = x_train.columns\n",
    "input_values = [[0, 3, 0, 2, 0, 0, 1, 6, 0.0, 0.0, 0, 0, 0]]\n",
    "input_df = pd.DataFrame(input_values, columns=feature_names)\n",
    "\n",
    "prediction = random_forest.predict(input_df)\n",
    "print(\"Prediction:\", prediction[0])"
   ]
  },
  {
   "cell_type": "markdown",
   "id": "984aae6b-2080-4b2f-a03e-84415d3c22fe",
   "metadata": {},
   "source": [
    "## Model"
   ]
  },
  {
   "cell_type": "code",
   "execution_count": 48,
   "id": "092c6a6b-982d-4b2e-a688-b16e5a3f3344",
   "metadata": {},
   "outputs": [],
   "source": [
    "model = pd.DataFrame({'Model':['Linear Regression','Random Forest Regressor','Decision Tree','Gaussian Navies Bayes','Multinomial Navies Bayes'],\n",
    "                      'Score':[acc_lr,acc_rf,acc_rf,acc_nb,acc_mnb],})"
   ]
  },
  {
   "cell_type": "code",
   "execution_count": 49,
   "id": "1fb9b098-83ca-4673-a54d-d89bd2a70c75",
   "metadata": {},
   "outputs": [
    {
     "data": {
      "text/html": [
       "<div>\n",
       "<style scoped>\n",
       "    .dataframe tbody tr th:only-of-type {\n",
       "        vertical-align: middle;\n",
       "    }\n",
       "\n",
       "    .dataframe tbody tr th {\n",
       "        vertical-align: top;\n",
       "    }\n",
       "\n",
       "    .dataframe thead th {\n",
       "        text-align: right;\n",
       "    }\n",
       "</style>\n",
       "<table border=\"1\" class=\"dataframe\">\n",
       "  <thead>\n",
       "    <tr style=\"text-align: right;\">\n",
       "      <th></th>\n",
       "      <th>Model</th>\n",
       "      <th>Score</th>\n",
       "    </tr>\n",
       "  </thead>\n",
       "  <tbody>\n",
       "    <tr>\n",
       "      <th>0</th>\n",
       "      <td>Linear Regression</td>\n",
       "      <td>0.967123</td>\n",
       "    </tr>\n",
       "    <tr>\n",
       "      <th>1</th>\n",
       "      <td>Random Forest Regressor</td>\n",
       "      <td>1.000000</td>\n",
       "    </tr>\n",
       "    <tr>\n",
       "      <th>2</th>\n",
       "      <td>Decision Tree</td>\n",
       "      <td>1.000000</td>\n",
       "    </tr>\n",
       "    <tr>\n",
       "      <th>3</th>\n",
       "      <td>Gaussian Navies Bayes</td>\n",
       "      <td>1.000000</td>\n",
       "    </tr>\n",
       "    <tr>\n",
       "      <th>4</th>\n",
       "      <td>Multinomial Navies Bayes</td>\n",
       "      <td>0.904110</td>\n",
       "    </tr>\n",
       "  </tbody>\n",
       "</table>\n",
       "</div>"
      ],
      "text/plain": [
       "                      Model     Score\n",
       "0         Linear Regression  0.967123\n",
       "1   Random Forest Regressor  1.000000\n",
       "2             Decision Tree  1.000000\n",
       "3     Gaussian Navies Bayes  1.000000\n",
       "4  Multinomial Navies Bayes  0.904110"
      ]
     },
     "execution_count": 49,
     "metadata": {},
     "output_type": "execute_result"
    }
   ],
   "source": [
    "model"
   ]
  },
  {
   "cell_type": "code",
   "execution_count": 50,
   "id": "51fcb93b-87e9-4b74-bbf7-fd8232e21592",
   "metadata": {},
   "outputs": [],
   "source": [
    "import pickle\n",
    "import warnings\n",
    "# pickle.dump(random_forest,open(\"model.pkl\",\"wb\"))\n",
    "with open('model.pkl', 'wb') as f:\n",
    "    pickle.dump(random_forest, f)"
   ]
  },
  {
   "cell_type": "code",
   "execution_count": null,
   "id": "5a583d8f",
   "metadata": {},
   "outputs": [],
   "source": []
  },
  {
   "cell_type": "code",
   "execution_count": null,
   "id": "04a8ee65",
   "metadata": {},
   "outputs": [],
   "source": []
  }
 ],
 "metadata": {
  "kernelspec": {
   "display_name": ".venv",
   "language": "python",
   "name": "python3"
  },
  "language_info": {
   "codemirror_mode": {
    "name": "ipython",
    "version": 3
   },
   "file_extension": ".py",
   "mimetype": "text/x-python",
   "name": "python",
   "nbconvert_exporter": "python",
   "pygments_lexer": "ipython3",
   "version": "3.12.10"
  }
 },
 "nbformat": 4,
 "nbformat_minor": 5
}
